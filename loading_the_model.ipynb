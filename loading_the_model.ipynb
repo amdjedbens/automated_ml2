{
 "cells": [
  {
   "cell_type": "code",
   "execution_count": 9,
   "id": "6c759a94-e8ee-48ca-8f8e-8e5843a7650f",
   "metadata": {},
   "outputs": [],
   "source": [
    "# !pip install plotly"
   ]
  },
  {
   "cell_type": "code",
   "execution_count": 2,
   "id": "81153078-107c-4f3b-bafa-113b70e54fd3",
   "metadata": {},
   "outputs": [],
   "source": [
    "import pickle\n",
    "import pandas as pd \n",
    "from pycaret.classification import load_model\n"
   ]
  },
  {
   "cell_type": "code",
   "execution_count": 6,
   "id": "dd782085-105a-4377-b00a-63aa71560b8c",
   "metadata": {},
   "outputs": [
    {
     "name": "stdout",
     "output_type": "stream",
     "text": [
      "Transformation Pipeline and Model Successfully Loaded\n"
     ]
    },
    {
     "data": {
      "text/plain": [
       "Pipeline(steps=[('dtypes',\n",
       "                 DataTypes_Auto_infer(display_types=False,\n",
       "                                      id_columns=['PassengerId'],\n",
       "                                      ml_usecase='regression',\n",
       "                                      target='Survived')),\n",
       "                ('imputer',\n",
       "                 Simple_Imputer(categorical_strategy='not_available',\n",
       "                                fill_value_categorical=None,\n",
       "                                fill_value_numerical=None,\n",
       "                                numeric_strategy='mean',\n",
       "                                target_variable=None)),\n",
       "                ('new_levels1',\n",
       "                 New_Catagorical_Levels_in_TestDat...\n",
       "                ('binn', 'passthrough'), ('rem_outliers', 'passthrough'),\n",
       "                ('cluster_all', 'passthrough'),\n",
       "                ('dummy', Dummify(target='Survived')),\n",
       "                ('fix_perfect', Remove_100(target='Survived')),\n",
       "                ('clean_names', Clean_Colum_Names()),\n",
       "                ('feature_select', 'passthrough'), ('fix_multi', 'passthrough'),\n",
       "                ('dfs', 'passthrough'), ('pca', 'passthrough'),\n",
       "                ['trained_model',\n",
       "                 GradientBoostingRegressor(random_state=8546)]])"
      ]
     },
     "execution_count": 6,
     "metadata": {},
     "output_type": "execute_result"
    }
   ],
   "source": [
    "model = load_model('/home/amdj3d/Desktop/best_model')\n",
    "model\n"
   ]
  },
  {
   "cell_type": "code",
   "execution_count": null,
   "id": "566d17b9-5432-486b-9840-1773c9a1983d",
   "metadata": {},
   "outputs": [],
   "source": [
    "pickled_model = pickle.load(open('best_model.pkl', 'rb'))\n",
    "model.predict(X_test)\n"
   ]
  }
 ],
 "metadata": {
  "kernelspec": {
   "display_name": "Python 3 (ipykernel)",
   "language": "python",
   "name": "python3"
  },
  "language_info": {
   "codemirror_mode": {
    "name": "ipython",
    "version": 3
   },
   "file_extension": ".py",
   "mimetype": "text/x-python",
   "name": "python",
   "nbconvert_exporter": "python",
   "pygments_lexer": "ipython3",
   "version": "3.8.13"
  }
 },
 "nbformat": 4,
 "nbformat_minor": 5
}
